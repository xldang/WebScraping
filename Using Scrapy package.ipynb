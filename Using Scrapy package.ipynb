{
 "cells": [
  {
   "cell_type": "code",
   "execution_count": 47,
   "id": "operating-major",
   "metadata": {},
   "outputs": [],
   "source": [
    "from bs4 import BeautifulSoup\n",
    "import requests\n",
    "import re\n",
    "import scrapy\n",
    "import pickle"
   ]
  },
  {
   "cell_type": "markdown",
   "id": "infrared-brisbane",
   "metadata": {},
   "source": [
    "## 1.一个简易爬虫"
   ]
  },
  {
   "cell_type": "code",
   "execution_count": 48,
   "id": "continental-liberty",
   "metadata": {},
   "outputs": [],
   "source": [
    "# ## 1.一个简易爬虫\n",
    "\n",
    "fr=open('myWebList','rb')\n",
    "urls=list(pickle.load(fr))\n",
    "fr.close()\n",
    "\n",
    "class ArticleSpider(scrapy.Spider):\n",
    "    name='article'\n",
    "    global urls\n",
    "    def start_requests(self):\n",
    "        # urls=['http://fallincloud.com/?p=205',\n",
    "        #      'http://fallincloud.com/?p=208',\n",
    "        #      'http://fallincloud.com/?p=211',\n",
    "        #      'http://fallincloud.com/?p=213']\n",
    "        return [scrapy.Request(url=url,callback=self.parse) \n",
    "                for url in urls]\n",
    "    def parse(self,response):\n",
    "        #url=response.url\n",
    "        title=response.css(\"title::text\").extract_first()\n",
    "        #print('----------------------------------Scraping elements prints here----------------------------------')\n",
    "        #print(\"URL is:{}\".format(url))\n",
    "        print(\"Title is:{}\".format(title))\n",
    "\n",
    "    "
   ]
  },
  {
   "cell_type": "code",
   "execution_count": 52,
   "id": "finished-apparel",
   "metadata": {},
   "outputs": [],
   "source": [
    "# 在cmd下运行\n",
    "# scrapy startproject myspider\n",
    "# create new file myspider.py with upper codes\n",
    "# scraypy runspider myspider.py"
   ]
  },
  {
   "cell_type": "code",
   "execution_count": null,
   "id": "responsible-number",
   "metadata": {},
   "outputs": [],
   "source": []
  }
 ],
 "metadata": {
  "kernelspec": {
   "display_name": "Python 3",
   "language": "python",
   "name": "python3"
  },
  "language_info": {
   "codemirror_mode": {
    "name": "ipython",
    "version": 3
   },
   "file_extension": ".py",
   "mimetype": "text/x-python",
   "name": "python",
   "nbconvert_exporter": "python",
   "pygments_lexer": "ipython3",
   "version": "3.8.5"
  }
 },
 "nbformat": 4,
 "nbformat_minor": 5
}
